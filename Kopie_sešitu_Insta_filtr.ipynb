{
  "nbformat": 4,
  "nbformat_minor": 0,
  "metadata": {
    "colab": {
      "provenance": [],
      "include_colab_link": true
    },
    "kernelspec": {
      "name": "python3",
      "display_name": "Python 3"
    },
    "language_info": {
      "name": "python"
    }
  },
  "cells": [
    {
      "cell_type": "markdown",
      "metadata": {
        "id": "view-in-github",
        "colab_type": "text"
      },
      "source": [
        "<a href=\"https://colab.research.google.com/github/Stenlyi/FILTRY_project/blob/main/Kopie_se%C5%A1itu_Insta_filtr.ipynb\" target=\"_parent\"><img src=\"https://colab.research.google.com/assets/colab-badge.svg\" alt=\"Open In Colab\"/></a>"
      ]
    },
    {
      "cell_type": "code",
      "execution_count": 8,
      "metadata": {
        "colab": {
          "base_uri": "https://localhost:8080/"
        },
        "id": "vY7RVH_0OEnh",
        "outputId": "16725b2e-88a6-4b02-ce33-d37201f0e916"
      },
      "outputs": [
        {
          "output_type": "stream",
          "name": "stdout",
          "text": [
            "Zadej své jméno: standa\n",
            "Ahoj standa\n",
            "Evidentně si chcete změnit filtr svého obrázku, pojďme do toho:\n",
            "Nejdříve si vyberte obrázek, u kterého chcete změnit filtr.\n",
            "Potom si vyberete filtr, který chcete na svůj obrázek dát.\n",
            "Jméno obrázku (.png/.jpg): lev.jpg\n",
            "Filtr: (Černobílý/Mono/Negativní/Random): random\n",
            "standa, zde je váš obrázek.\n"
          ]
        }
      ],
      "source": [
        "from PIL import Image\n",
        "import random\n",
        "\n",
        "def greeting_name(name):\n",
        "    print(f\"Ahoj {name}\")\n",
        "\n",
        "name = input(\"Zadej své jméno: \")\n",
        "greeting_name(name)\n",
        "\n",
        "print(\"Evidentně si chcete změnit filtr svého obrázku, pojďme do toho:\")\n",
        "print(\"Nejdříve si vyberte obrázek, u kterého chcete změnit filtr.\")\n",
        "print(\"Potom si vyberete filtr, který chcete na svůj obrázek dát.\")\n",
        "\n",
        "nazev_obrazku = input(\"Jméno obrázku (.png/.jpg): \")\n",
        "\n",
        "while True:\n",
        "    vyber_filtru = input(\"Filtr: (Černobílý/Mono/Negativní/Random): \")\n",
        "\n",
        "    obrazek = Image.open(nazev_obrazku)\n",
        "\n",
        "    sirka, vyska = obrazek.size\n",
        "    x = 0\n",
        "    while x < sirka:\n",
        "        y = 0\n",
        "        while y < vyska:\n",
        "            r, g, b = obrazek.getpixel((x,y))\n",
        "            prumer = int((r+g+b)/3)\n",
        "            if vyber_filtru.lower() == \"černobílý\":\n",
        "                if prumer > 150:\n",
        "                    obrazek.putpixel((x,y), (255, 255, 255))\n",
        "                else:\n",
        "                    obrazek.putpixel((x,y), (0, 0, 0))\n",
        "\n",
        "            elif vyber_filtru.lower() == \"mono\":\n",
        "                if prumer > 150:\n",
        "                    obrazek.putpixel((x,y), (255, 255, 255))\n",
        "                else:\n",
        "                    obrazek.putpixel((x,y), (0, 0, 0))\n",
        "\n",
        "            elif vyber_filtru.lower() == \"negativní\":\n",
        "                obrazek.putpixel((x,y), (255-r, 255-g, 255-b))\n",
        "\n",
        "            elif vyber_filtru.lower() == \"random\":\n",
        "                vyber_filtru = random.choice([\"černobílý\", \"mono\", \"negativní\"])\n",
        "\n",
        "            y += 1\n",
        "        x += 1\n",
        "\n",
        "    obrazek.show()\n",
        "    print(f\"{name}, zde je váš obrázek.\")\n",
        "    break\n",
        "else:\n",
        "    print(\"Neznámý filtr. Použijte 'Černobílý', 'Mono', 'Negativní' nebo 'Random'.\")\n",
        "    continue\n"
      ]
    }
  ]
}